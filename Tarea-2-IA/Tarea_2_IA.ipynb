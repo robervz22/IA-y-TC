{
 "cells": [
  {
   "cell_type": "markdown",
   "metadata": {},
   "source": [
    "# Búsqueda Ciega #"
   ]
  },
  {
   "cell_type": "markdown",
   "metadata": {},
   "source": [
    "## Configuración sugerida ##"
   ]
  },
  {
   "cell_type": "markdown",
   "metadata": {},
   "source": [
    "Iniciamos con las configuraciones proporcionadas. La configuración inicial sugerida es \n",
    "$$\\begin{pmatrix}3&2&1\\\\ 6&5&4\\\\ 8&7&0 \\end{pmatrix}$$"
   ]
  },
  {
   "cell_type": "markdown",
   "metadata": {},
   "source": [
    "mientras que la configuración final es\n",
    "$$\\begin{pmatrix}1&2&3\\\\ 4&5&6\\\\ 7&8&0 \\end{pmatrix}$$"
   ]
  },
  {
   "cell_type": "markdown",
   "metadata": {},
   "source": [
    "Cabe notar que el $0$ representa el espacio vacío. Aplicamos el algoritmo de búsqueda para estos estados."
   ]
  },
  {
   "cell_type": "code",
   "execution_count": 9,
   "metadata": {},
   "outputs": [
    {
     "name": "stdout",
     "output_type": "stream",
     "text": [
      "No se puede alcanzar el nodo final\n"
     ]
    }
   ],
   "source": [
    "import sys\n",
    "import numpy as np\n",
    "sys.path.append('..')\n",
    "from blind_search import node\n",
    "from blind_search import BFS\n",
    "# Case 1\n",
    "init_value_1=np.array([[3,2,1],[6,5,4],[8,7,0]])\n",
    "final_value_1=np.array([[1,2,3],[4,5,6],[7,8,0]])\n",
    "init_state_1=node(init_value_1)\n",
    "# Search Algorithm\n",
    "BFS_1=BFS(init_state_1,final_value_1)\n",
    "BFS_1.main()"
   ]
  },
  {
   "cell_type": "markdown",
   "metadata": {},
   "source": [
    "A partir de lo anterior vemos que a partir de la configuración incial proporcionada no es alcanzable la configuración inicial. La heurística empleada fue considerar como base la configuración \n",
    "\\begin{equation*}\\begin{pmatrix}1&2&3\\\\ 4&5&6\\\\ 7&8&0 \\end{pmatrix}\\end{equation*},"
   ]
  },
  {
   "cell_type": "markdown",
   "metadata": {},
   "source": [
    "Se puede puede poner en forma de vector \n",
    "\\begin{equation*}(1,2,3,4,5,6,7,8,0)\\end{equation*}"
   ]
  },
  {
   "cell_type": "markdown",
   "metadata": {},
   "source": [
    "Cualquier configuración la podemos poner en forma de vector como la anterior. En cualquier configuración del tablero, una inversión entre las entradas $i,j$ , con $i<j$ , del vector asociado a la configuración sucede cuando el valor de la celda en la posición $i$ es mayor que el valor en la posición $j$."
   ]
  },
  {
   "cell_type": "markdown",
   "metadata": {},
   "source": [
    "Usamos el hecho de para poder alcanzar el estado final a partir de un estado inicial la paridad del número de inversiones debe ser la misma entre el estado final e inicial."
   ]
  },
  {
   "cell_type": "markdown",
   "metadata": {},
   "source": [
    "Para profundizar aún más en este ejemplo calculamos el número de inversiones del estado inicial y final. El número de inversiones del estado inicial es:"
   ]
  },
  {
   "cell_type": "code",
   "execution_count": 2,
   "metadata": {},
   "outputs": [
    {
     "data": {
      "text/plain": [
       "7"
      ]
     },
     "execution_count": 2,
     "metadata": {},
     "output_type": "execute_result"
    }
   ],
   "source": [
    "BFS_1.getInvCount([j for sub in init_value_1 for j in sub])"
   ]
  },
  {
   "cell_type": "markdown",
   "metadata": {},
   "source": [
    "Mientras que el número de inversiones en el estado final es:"
   ]
  },
  {
   "cell_type": "code",
   "execution_count": 3,
   "metadata": {},
   "outputs": [
    {
     "data": {
      "text/plain": [
       "0"
      ]
     },
     "execution_count": 3,
     "metadata": {},
     "output_type": "execute_result"
    }
   ],
   "source": [
    "BFS_1.getInvCount([j for sub in final_value_1 for j in sub])"
   ]
  },
  {
   "cell_type": "markdown",
   "metadata": {},
   "source": [
    "De lo anterior podemos ver que en efecto las paridades son distintas y en consecuencia el estado final no es alcanzable en este caso. "
   ]
  },
  {
   "cell_type": "markdown",
   "metadata": {},
   "source": [
    "Para obtener un configuración inicial que alcance la final propuesta basta hacer un intercambio de fichas en la configuración inicial para modificar su paridad, por ejemplo, usemos la configuración inicial \n",
    "\\begin{equation*}\\begin{pmatrix}3&2&1\\\\ 6&5&4\\\\ 7&8&0 \\end{pmatrix}\\end{equation*},"
   ]
  },
  {
   "cell_type": "markdown",
   "metadata": {},
   "source": [
    "donde intercambiamos de lugar el 7 y 8 en la configuración inicial que da la tarea. La paridad de esta configuración inicial es la siguiente."
   ]
  },
  {
   "cell_type": "code",
   "execution_count": 4,
   "metadata": {},
   "outputs": [
    {
     "data": {
      "text/plain": [
       "6"
      ]
     },
     "execution_count": 4,
     "metadata": {},
     "output_type": "execute_result"
    }
   ],
   "source": [
    "init_value_1=np.array([[3,2,1],[6,5,4],[7,8,0]])\n",
    "BFS_1.getInvCount([j for sub in init_value_1 for j in sub])"
   ]
  },
  {
   "cell_type": "markdown",
   "metadata": {},
   "source": [
    "Sin embargo al correr al hacer la búsqueda. Ya sea con el BFS o DFS el tiempo de ejecución no es razonable y no se termino el proceso. \n",
    "\n",
    "En el algoritmo $i$ -ésimo nodo explorado lo comparamos con los $1,2,\\dots,i-1$ anteriores para no crear hijos repetidos. Por lo que hacemos al menos el siguiente número de operaciones para un árbol de $n$ estados.   \n",
    "\\begin{equation*}\\sum_{i=1}^n (i-1)= \\frac{n(n-1)}{2}\\end{equation*}\n"
   ]
  },
  {
   "cell_type": "markdown",
   "metadata": {},
   "source": [
    "Como hay a lo más $ 9!/2$ nodos entonces en ese caso hacemos aproximadamente el siguiente número de operaciones\n",
    "\\begin{equation*}\\left(\\frac{9!}{2}\\right)^2\\approx 3.29\\times10^{10}\\end{equation*}  "
   ]
  },
  {
   "cell_type": "markdown",
   "metadata": {},
   "source": [
    "Lo anterior tardará varias horas por lo que desistimos de terminar el proceso. "
   ]
  },
  {
   "cell_type": "markdown",
   "metadata": {},
   "source": [
    "## Otras configuraciones ##"
   ]
  },
  {
   "cell_type": "markdown",
   "metadata": {},
   "source": [
    "A continuación vamos a analizar el desempeño del BFS y DFS con otro par de configuraciones inicial y final. "
   ]
  },
  {
   "cell_type": "markdown",
   "metadata": {},
   "source": [
    "### Primera configuración ###"
   ]
  },
  {
   "cell_type": "markdown",
   "metadata": {},
   "source": [
    "La configuración inicial sugerida es\n",
    "\\begin{equation*}\\begin{pmatrix}1&2&3\\\\ 0&4&6\\\\ 7&5&8 \\end{pmatrix}\\end{equation*},"
   ]
  },
  {
   "cell_type": "markdown",
   "metadata": {},
   "source": [
    "y la final es\n",
    "\\begin{equation*}\\begin{pmatrix}1&2&3\\\\ 4&6&0\\\\ 7&5&8 \\end{pmatrix}\\end{equation*},"
   ]
  },
  {
   "cell_type": "markdown",
   "metadata": {},
   "source": [
    "#### BFS ####"
   ]
  },
  {
   "cell_type": "markdown",
   "metadata": {},
   "source": [
    "Procedemos a aplicar el algoritmo de búsqueda BFS con estas configuraciones."
   ]
  },
  {
   "cell_type": "code",
   "execution_count": 5,
   "metadata": {},
   "outputs": [
    {
     "name": "stdout",
     "output_type": "stream",
     "text": [
      "1 : 2 : 3\n",
      "0 : 4 : 6\n",
      "7 : 5 : 8\n",
      "\n",
      "\n",
      "1 : 2 : 3\n",
      "4 : 0 : 6\n",
      "7 : 5 : 8\n",
      "\n",
      "\n",
      "1 : 2 : 3\n",
      "4 : 6 : 0\n",
      "7 : 5 : 8\n",
      "\n",
      "\n",
      "Numero de movimientos de la solución: 2\n",
      "Numero de nodos visitados: 9\n",
      "Numero de nodos por visitar: 8\n",
      "Numero de nodos expandidos: 17\n"
     ]
    }
   ],
   "source": [
    "init_value_2=np.array([[1,2,3],[0,4,6],[7,5,8]])\n",
    "final_value_2=np.array([[1,2,3],[4,6,0],[7,5,8]])\n",
    "init_state_2=node(init_value_2)\n",
    "BFS_2=BFS(init_state_2,final_value_2)\n",
    "BFS_2.main()"
   ]
  },
  {
   "cell_type": "markdown",
   "metadata": {},
   "source": [
    "Desarrollando el árbol a mano se puede ver que el nodo final está en tercer nivel y es el último nodo que el BFS valida en ese nivel. Cabe mencionar que la búsqueda a profundidad que se ha implementado en el módulo *blind_search.py* hace la búsqueda en anchura de izquierda a derecha. \n",
    "\n",
    "El número de nodos expandidos es aquellos que se han construido en el árbol, ya sea que se han visitados o se han creado a partir de ser hijos de nodos visitados. \n",
    "\n",
    "Es claro que el tipo de búsqueda BFS da el camino más corto a la solución, sin embargo, como se ha notado en este ejemplo, puede que se tengan que recorrer todos los nodos de cada nivel hasta encontrar la solución en el último nodo del último nivel."
   ]
  },
  {
   "cell_type": "markdown",
   "metadata": {},
   "source": [
    "#### DFS ####"
   ]
  },
  {
   "cell_type": "markdown",
   "metadata": {},
   "source": [
    "La versión implementada en *blind_search.py* del DFS hace la búsqueda en profundidad considerando las ramas de derecha a izquierda. Realizamos la búsqueda DFS con los estados inicial y final sugeridos en esta sección. "
   ]
  },
  {
   "cell_type": "code",
   "execution_count": 6,
   "metadata": {},
   "outputs": [
    {
     "name": "stdout",
     "output_type": "stream",
     "text": [
      "1 : 2 : 3\n",
      "0 : 4 : 6\n",
      "7 : 5 : 8\n",
      "\n",
      "\n",
      "1 : 2 : 3\n",
      "4 : 0 : 6\n",
      "7 : 5 : 8\n",
      "\n",
      "\n",
      "1 : 2 : 3\n",
      "4 : 6 : 0\n",
      "7 : 5 : 8\n",
      "\n",
      "\n",
      "Numero de movimientos de la solución: 2\n",
      "Numero de nodos visitados: 3\n",
      "Numero de nodos por visitar: 4\n",
      "Numero de nodos expandidos: 7\n"
     ]
    }
   ],
   "source": [
    "from blind_search import DFS\n",
    "DFS_2=DFS(init_state_2,final_value_2)\n",
    "DFS_2.main()"
   ]
  },
  {
   "cell_type": "markdown",
   "metadata": {},
   "source": [
    "Este ejemplo fue construido para ilustrar la ventaja que tiene en memoria el DFS, pues como el nodo solución estaba en el nivel 3 y era el último nodo a validar para el BFS, entonces el BFS se vió obligado a expandir el número de nodos correspondiente a 3 niveles del árbol, mientras que el DFS sólo expandió uno del último nivel, pues la primer rama que eligió fue la correcta para hallar la solución."
   ]
  },
  {
   "cell_type": "markdown",
   "metadata": {},
   "source": [
    "### Segunda configuración ###"
   ]
  },
  {
   "cell_type": "markdown",
   "metadata": {},
   "source": [
    "A continuación elegimos otro par de configuraciones. La configuración inicial sugerida en esta ocasión es \n",
    "\\begin{equation*}\\begin{pmatrix}1&2&3\\\\ 4&0&5\\\\ 6&7&8 \\end{pmatrix}\\end{equation*},"
   ]
  },
  {
   "cell_type": "markdown",
   "metadata": {},
   "source": [
    "y la configuración final es \n",
    "\\begin{equation*}\\begin{pmatrix}0&1&3\\\\ 4&2&5\\\\ 6&7&8 \\end{pmatrix}\\end{equation*}."
   ]
  },
  {
   "cell_type": "markdown",
   "metadata": {},
   "source": [
    "#### BFS ####"
   ]
  },
  {
   "cell_type": "markdown",
   "metadata": {},
   "source": [
    "Realizamos con la configuración anterior la búsqueda BFS. Obtenemos los siguientes resultados."
   ]
  },
  {
   "cell_type": "code",
   "execution_count": 7,
   "metadata": {},
   "outputs": [
    {
     "name": "stdout",
     "output_type": "stream",
     "text": [
      "1 : 2 : 3\n",
      "4 : 0 : 5\n",
      "6 : 7 : 8\n",
      "\n",
      "\n",
      "1 : 0 : 3\n",
      "4 : 2 : 5\n",
      "6 : 7 : 8\n",
      "\n",
      "\n",
      "0 : 1 : 3\n",
      "4 : 2 : 5\n",
      "6 : 7 : 8\n",
      "\n",
      "\n",
      "Numero de movimientos de la solución: 2\n",
      "Numero de nodos visitados: 6\n",
      "Numero de nodos por visitar: 7\n",
      "Numero de nodos expandidos: 13\n"
     ]
    }
   ],
   "source": [
    "init_value_3=np.array([[1,2,3],[4,0,5],[6,7,8]])\n",
    "final_value_3=np.array([[0,1,3],[4,2,5],[6,7,8]])\n",
    "init_state_3=node(init_value_3)\n",
    "BFS_3=BFS(init_state_3,final_value_3)\n",
    "BFS_3.main()"
   ]
  },
  {
   "cell_type": "markdown",
   "metadata": {},
   "source": [
    "La solución se encuentra en el tercer nivel del árbol, en la primer rama de izquierda a derecha. El nodo inicial tiene 4 hijos y cada uno sus hijos tiene 2 hijos, por lo que tenemos 13 nodos en total en el árbol. "
   ]
  },
  {
   "cell_type": "markdown",
   "metadata": {},
   "source": [
    "#### DFS ####"
   ]
  },
  {
   "cell_type": "markdown",
   "metadata": {},
   "source": [
    "Por último, realizamos la búsqueda en profundidad a la segunda configuración propuesta. El resultado es el siguiente."
   ]
  },
  {
   "cell_type": "code",
   "execution_count": 8,
   "metadata": {},
   "outputs": [
    {
     "name": "stdout",
     "output_type": "stream",
     "text": [
      "1 : 2 : 3\n",
      "4 : 0 : 5\n",
      "6 : 7 : 8\n",
      "\n",
      "\n",
      "1 : 0 : 3\n",
      "4 : 2 : 5\n",
      "6 : 7 : 8\n",
      "\n",
      "\n",
      "0 : 1 : 3\n",
      "4 : 2 : 5\n",
      "6 : 7 : 8\n",
      "\n",
      "\n",
      "Numero de movimientos de la solución: 2\n",
      "Numero de nodos visitados: 311\n",
      "Numero de nodos por visitar: 0\n",
      "Numero de nodos expandidos: 311\n"
     ]
    }
   ],
   "source": [
    "DFS_3=DFS(init_state_3,final_value_3)\n",
    "DFS_3.main()"
   ]
  },
  {
   "cell_type": "markdown",
   "metadata": {},
   "source": [
    "Como nuestra implementación del DFS explora las ramas de derecha a izquierda entonces de las ramas que construyo el BFS hasta el nivel 3 el algoritmo DFS tuvo que explorar todas hasta encontrar la solución en la última rama de derecha a izquierda en el nivel 3. Al explorar todas estas ramas hasta una profunidad de 10 (es el límite de profunidad del árbol) se visitaron cada uno de los nodos de estas ramas antes de visitar el nodo solución, por eso no hay nodos en la lista de open o de por visitar. En consecuencia, por no elegir el *orden correcto* de exploración de las ramas se exploró exhaustivamente todas las ramas hasta encontrar la solución en la última. Incluso, sin no ponemos el límite de profunidad  y sin tener algún criterio para elegir el orden de exploración en profunidad en las ramas podemos tener la mala suerte de en nuestras primeras elecciones tomar una rama que se vaya a infinito, aunque este no es el caso porque el espacio de estados es finito, pero si aumenta enormemente la complejidad por una mala elección. \n",
    "\n",
    "Vemos que si se hubiera elegido el orden de exploración de las ramas de izquierda a derecha tendríamos una solución con mucha menos exploración del árbol en consecuencia mayor ahorro en memoria como en la primer configuración propuesta. Precisamente esto es la virtud de pensar en una heurística, un criterio para elegir la mejor rama que explorar a profunidad y aprovechar la virtud del DFS de tener una complejidad en memoria lineal a diferencia del BFS que tiene una complejidad exponencial en memoria. "
   ]
  }
 ],
 "metadata": {
  "interpreter": {
   "hash": "31f2aee4e71d21fbe5cf8b01ff0e069b9275f58929596ceb00d14d90e3e16cd6"
  },
  "kernelspec": {
   "display_name": "Python 3.8.10 64-bit",
   "language": "python",
   "name": "python3"
  },
  "language_info": {
   "codemirror_mode": {
    "name": "ipython",
    "version": 3
   },
   "file_extension": ".py",
   "mimetype": "text/x-python",
   "name": "python",
   "nbconvert_exporter": "python",
   "pygments_lexer": "ipython3",
   "version": "3.8.10"
  },
  "orig_nbformat": 4
 },
 "nbformat": 4,
 "nbformat_minor": 2
}
