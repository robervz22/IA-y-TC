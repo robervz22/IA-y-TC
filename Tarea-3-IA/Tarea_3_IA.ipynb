{
 "cells": [
  {
   "cell_type": "markdown",
   "metadata": {},
   "source": [
    "# Búsqueda Informada con algoritmo $A^*$ #"
   ]
  },
  {
   "cell_type": "markdown",
   "metadata": {},
   "source": [
    "El objetivo en esta tarea será mejor notablemente la complejidad tanto en tiempo como en memoria la búsqueda ciega implementada en la Tarea 2. Lo que haremos será resolver el 8-Imposible con el algoritmo $A^*$. La función de costo que utilizaremos para el algoritmo $A^*$ será de la forma \n",
    "\\begin{equation*}\n",
    "f(n)=g(n)+h'(n).\n",
    "\\end{equation*}"
   ]
  },
  {
   "cell_type": "markdown",
   "metadata": {},
   "source": [
    "para todo nodo $n$. Aquí $g$ representa la profunidad del nodo $n$ y $h'$ estimará la distancia del nodo $n$ a la solución, la cual especificaremos posteriormente. \n",
    "\n",
    "Denotaremos por $h_M(n)$ a la distancia Manhattan del nodo $n$ a la solución y por $h_C(n)$ el número de fichas en posición incorrecta del tablero $n$ respecto al tablero solución; a $h_C$ también se le conoce como *distancia de Hamming*. "
   ]
  },
  {
   "cell_type": "markdown",
   "metadata": {},
   "source": [
    "Por lo tanto, lo que haremos será implementar el algoritmo $A^*$ considerando primero la función de costo $f_M(n)=g(n)+h_M(n)$ y luego la función $f_C(n)=g(n)+h_C(n)$ para resolver el 8-imposible."
   ]
  },
  {
   "cell_type": "markdown",
   "metadata": {},
   "source": [
    "En este notebook, al igual que en la Tarea 2, importamos las funciones y clases que nos permitirán obtener los resultados del archivo *heuristic_search.py* que se adjunta junto con un *README.md* en un zip, esto con el fin de darle prioridad a las observaciones y hacer más sucinto este documento.\n",
    "\n",
    "El archivo *heuristic_search.py* y el notebook de Jupyter *Tarea_3_IA.ipynb* deben estar en el mismo directorio."
   ]
  },
  {
   "cell_type": "markdown",
   "metadata": {},
   "source": [
    "## Heurísticas Admisibles ##"
   ]
  },
  {
   "cell_type": "markdown",
   "metadata": {},
   "source": [
    "Sabemos que \n",
    "\\begin{equation}\n",
    "h_C(n)\\leq h_M(n)\\leq h^*(n)\n",
    "\\end{equation}"
   ]
  },
  {
   "cell_type": "markdown",
   "metadata": {},
   "source": [
    "para todo estado $n$ y donde $h^*$ es el verdadero coste para llegar de $n$ al objetivo."
   ]
  },
  {
   "cell_type": "markdown",
   "metadata": {},
   "source": [
    "Como $h_C$ y $h_M$ con admisibles entonces por el Teorema 4.2.2 de (poner cita) el algoritmo $A^*$ con estas heurísticas nunca regresará una solución subóptima, por lo que el resultado obtenido con el algoritmo $A^*$ será la solución óptima, es decir, la más corta de la configuración inicial a la final."
   ]
  },
  {
   "cell_type": "markdown",
   "metadata": {},
   "source": [
    "Por lo tanto, anticipamos que con la distancia Manhattan y con la distancia de Hamming obtendremos soluciones con la misma cantidad de movimientos, pues en ambos casos la solución es óptima. "
   ]
  },
  {
   "cell_type": "markdown",
   "metadata": {},
   "source": [
    "### Caso 1 ###"
   ]
  },
  {
   "cell_type": "markdown",
   "metadata": {},
   "source": [
    "En este caso probaremos con la configuración inicial sugerida\n",
    "\\begin{equation*}\\begin{pmatrix}3&2&1\\\\ 6&5&4\\\\ 8&7&0 \\end{pmatrix},\\end{equation*}"
   ]
  },
  {
   "cell_type": "markdown",
   "metadata": {},
   "source": [
    "mientras que la configuración final es\n",
    "\\begin{equation*}\\begin{pmatrix}1&2&3\\\\ 4&5&6\\\\ 7&8&0 \\end{pmatrix}.\\end{equation*}"
   ]
  },
  {
   "cell_type": "markdown",
   "metadata": {},
   "source": [
    "Representamos al hueco del tablero como el número $0$."
   ]
  },
  {
   "cell_type": "code",
   "execution_count": 1,
   "metadata": {},
   "outputs": [
    {
     "name": "stdout",
     "output_type": "stream",
     "text": [
      "No se puede alcanzar el nodo final\n"
     ]
    }
   ],
   "source": [
    "import sys\n",
    "import numpy as np\n",
    "sys.path.append('..')\n",
    "from heuristic_search import A_star\n",
    "from heuristic_search import Manhattan_dist\n",
    "from heuristic_search import Counting_dist\n",
    "# Case 1\n",
    "init_value_1=np.array([[3,2,1],[6,5,4],[8,7,0]])\n",
    "final_value_1=np.array([[1,2,3],[4,5,6],[7,8,0]])\n",
    "# Heuristic search algorithm\n",
    "A_star_1=A_star(init_value_1,final_value_1,Counting_dist)\n",
    "A_star_1.main(Counting_dist)"
   ]
  },
  {
   "cell_type": "markdown",
   "metadata": {},
   "source": [
    "A partir de lo anterior vemos que a partir de la configuración incial proporcionada no es alcanzable la configuración inicial. La heurística empleada fue considerar como base la configuración \n",
    "$$\\begin{pmatrix}1&2&3\\\\ 4&5&6\\\\ 7&8&0 \\end{pmatrix},$$"
   ]
  },
  {
   "cell_type": "markdown",
   "metadata": {},
   "source": [
    "Se puede puede poner en forma de vector \n",
    "$$(1,2,3,4,5,6,7,8,0)$$"
   ]
  },
  {
   "cell_type": "markdown",
   "metadata": {},
   "source": [
    "Cualquier configuración la podemos poner en forma de vector como la anterior. En cualquier configuración del tablero, una inversión entre las entradas $i,j$ , con $i<j$ , del vector asociado a la configuración sucede cuando el valor de la celda en la posición $i$ es mayor que el valor en la posición $j$."
   ]
  },
  {
   "cell_type": "markdown",
   "metadata": {},
   "source": [
    "Usamos el hecho de para poder alcanzar el estado final a partir de un estado inicial la paridad del número de inversiones debe ser la misma entre el estado final e inicial."
   ]
  },
  {
   "cell_type": "markdown",
   "metadata": {},
   "source": [
    "Para poder alcanzar la solución lo que haremos será intercambiar dos fichas de lugar en la configuración inicial de forma que la paridad del número de inversiones cambie y sea la misma que en la configuración final. Por lo que usaremos como configuración inicial el siguiente tablero\n",
    "$$\\begin{pmatrix}3&2&1\\\\ 6&5&4\\\\ 7&8&0 \\end{pmatrix}.$$"
   ]
  },
  {
   "cell_type": "markdown",
   "metadata": {},
   "source": [
    "#### Distancia de Hamming ####"
   ]
  },
  {
   "cell_type": "markdown",
   "metadata": {},
   "source": [
    "Mostraremos los resultados correspondientes al algoritmo $A^*$ considerando la distancia de Hamming. A continuación presentamos el código que nos brinda la solución con los resultados."
   ]
  },
  {
   "cell_type": "code",
   "execution_count": 2,
   "metadata": {},
   "outputs": [
    {
     "name": "stdout",
     "output_type": "stream",
     "text": [
      "3 : 2 : 1\n",
      "6 : 5 : 4\n",
      "7 : 8 : 0\n",
      "\n",
      "\n",
      "3 : 2 : 1\n",
      "6 : 5 : 4\n",
      "7 : 0 : 8\n",
      "\n",
      "\n",
      "3 : 2 : 1\n",
      "6 : 0 : 4\n",
      "7 : 5 : 8\n",
      "\n",
      "\n",
      "3 : 2 : 1\n",
      "0 : 6 : 4\n",
      "7 : 5 : 8\n",
      "\n",
      "\n",
      "0 : 2 : 1\n",
      "3 : 6 : 4\n",
      "7 : 5 : 8\n",
      "\n",
      "\n",
      "2 : 0 : 1\n",
      "3 : 6 : 4\n",
      "7 : 5 : 8\n",
      "\n",
      "\n",
      "2 : 6 : 1\n",
      "3 : 0 : 4\n",
      "7 : 5 : 8\n",
      "\n",
      "\n",
      "2 : 6 : 1\n",
      "3 : 4 : 0\n",
      "7 : 5 : 8\n",
      "\n",
      "\n",
      "2 : 6 : 0\n",
      "3 : 4 : 1\n",
      "7 : 5 : 8\n",
      "\n",
      "\n",
      "2 : 0 : 6\n",
      "3 : 4 : 1\n",
      "7 : 5 : 8\n",
      "\n",
      "\n",
      "2 : 4 : 6\n",
      "3 : 0 : 1\n",
      "7 : 5 : 8\n",
      "\n",
      "\n",
      "2 : 4 : 6\n",
      "0 : 3 : 1\n",
      "7 : 5 : 8\n",
      "\n",
      "\n",
      "0 : 4 : 6\n",
      "2 : 3 : 1\n",
      "7 : 5 : 8\n",
      "\n",
      "\n",
      "4 : 0 : 6\n",
      "2 : 3 : 1\n",
      "7 : 5 : 8\n",
      "\n",
      "\n",
      "4 : 3 : 6\n",
      "2 : 0 : 1\n",
      "7 : 5 : 8\n",
      "\n",
      "\n",
      "4 : 3 : 6\n",
      "2 : 1 : 0\n",
      "7 : 5 : 8\n",
      "\n",
      "\n",
      "4 : 3 : 0\n",
      "2 : 1 : 6\n",
      "7 : 5 : 8\n",
      "\n",
      "\n",
      "4 : 0 : 3\n",
      "2 : 1 : 6\n",
      "7 : 5 : 8\n",
      "\n",
      "\n",
      "4 : 1 : 3\n",
      "2 : 0 : 6\n",
      "7 : 5 : 8\n",
      "\n",
      "\n",
      "4 : 1 : 3\n",
      "0 : 2 : 6\n",
      "7 : 5 : 8\n",
      "\n",
      "\n",
      "0 : 1 : 3\n",
      "4 : 2 : 6\n",
      "7 : 5 : 8\n",
      "\n",
      "\n",
      "1 : 0 : 3\n",
      "4 : 2 : 6\n",
      "7 : 5 : 8\n",
      "\n",
      "\n",
      "1 : 2 : 3\n",
      "4 : 0 : 6\n",
      "7 : 5 : 8\n",
      "\n",
      "\n",
      "1 : 2 : 3\n",
      "4 : 5 : 6\n",
      "7 : 0 : 8\n",
      "\n",
      "\n",
      "1 : 2 : 3\n",
      "4 : 5 : 6\n",
      "7 : 8 : 0\n",
      "\n",
      "\n",
      "Numero de movimientos de la solución: 24\n",
      "Numero de nodos visitados: 12117\n",
      "Numero de nodos por visitar: 6444\n",
      "Numero de nodos expandidos: 18561\n"
     ]
    }
   ],
   "source": [
    "# Case 1 (Hamming distance)\n",
    "init_value_1=np.array([[3,2,1],[6,5,4],[7,8,0]])\n",
    "final_value_1=np.array([[1,2,3],[4,5,6],[7,8,0]])\n",
    "# Heuristic search algorithm\n",
    "A_star_1=A_star(init_value_1,final_value_1,Counting_dist)\n",
    "A_star_1.main(Counting_dist)"
   ]
  },
  {
   "cell_type": "markdown",
   "metadata": {},
   "source": [
    "El tiempo de ejecución en este caso fue de 9m36s. La salida completa, donde se muestra el camino completo de la configuración inicial a la configuración final se encuentra en el apéndice salidas."
   ]
  },
  {
   "cell_type": "markdown",
   "metadata": {},
   "source": [
    "#### Distancia Manhattan ####"
   ]
  },
  {
   "cell_type": "markdown",
   "metadata": {},
   "source": [
    "A continuación mostramos los resultados obtenidos con el algoritmo $A^*$ utilizando la distancia Manhattan. "
   ]
  },
  {
   "cell_type": "code",
   "execution_count": 3,
   "metadata": {},
   "outputs": [
    {
     "name": "stdout",
     "output_type": "stream",
     "text": [
      "3 : 2 : 1\n",
      "6 : 5 : 4\n",
      "7 : 8 : 0\n",
      "\n",
      "\n",
      "3 : 2 : 1\n",
      "6 : 5 : 4\n",
      "7 : 0 : 8\n",
      "\n",
      "\n",
      "3 : 2 : 1\n",
      "6 : 0 : 4\n",
      "7 : 5 : 8\n",
      "\n",
      "\n",
      "3 : 2 : 1\n",
      "0 : 6 : 4\n",
      "7 : 5 : 8\n",
      "\n",
      "\n",
      "0 : 2 : 1\n",
      "3 : 6 : 4\n",
      "7 : 5 : 8\n",
      "\n",
      "\n",
      "2 : 0 : 1\n",
      "3 : 6 : 4\n",
      "7 : 5 : 8\n",
      "\n",
      "\n",
      "2 : 6 : 1\n",
      "3 : 0 : 4\n",
      "7 : 5 : 8\n",
      "\n",
      "\n",
      "2 : 6 : 1\n",
      "3 : 4 : 0\n",
      "7 : 5 : 8\n",
      "\n",
      "\n",
      "2 : 6 : 0\n",
      "3 : 4 : 1\n",
      "7 : 5 : 8\n",
      "\n",
      "\n",
      "2 : 0 : 6\n",
      "3 : 4 : 1\n",
      "7 : 5 : 8\n",
      "\n",
      "\n",
      "2 : 4 : 6\n",
      "3 : 0 : 1\n",
      "7 : 5 : 8\n",
      "\n",
      "\n",
      "2 : 4 : 6\n",
      "0 : 3 : 1\n",
      "7 : 5 : 8\n",
      "\n",
      "\n",
      "0 : 4 : 6\n",
      "2 : 3 : 1\n",
      "7 : 5 : 8\n",
      "\n",
      "\n",
      "4 : 0 : 6\n",
      "2 : 3 : 1\n",
      "7 : 5 : 8\n",
      "\n",
      "\n",
      "4 : 3 : 6\n",
      "2 : 0 : 1\n",
      "7 : 5 : 8\n",
      "\n",
      "\n",
      "4 : 3 : 6\n",
      "2 : 1 : 0\n",
      "7 : 5 : 8\n",
      "\n",
      "\n",
      "4 : 3 : 0\n",
      "2 : 1 : 6\n",
      "7 : 5 : 8\n",
      "\n",
      "\n",
      "4 : 0 : 3\n",
      "2 : 1 : 6\n",
      "7 : 5 : 8\n",
      "\n",
      "\n",
      "4 : 1 : 3\n",
      "2 : 0 : 6\n",
      "7 : 5 : 8\n",
      "\n",
      "\n",
      "4 : 1 : 3\n",
      "0 : 2 : 6\n",
      "7 : 5 : 8\n",
      "\n",
      "\n",
      "0 : 1 : 3\n",
      "4 : 2 : 6\n",
      "7 : 5 : 8\n",
      "\n",
      "\n",
      "1 : 0 : 3\n",
      "4 : 2 : 6\n",
      "7 : 5 : 8\n",
      "\n",
      "\n",
      "1 : 2 : 3\n",
      "4 : 0 : 6\n",
      "7 : 5 : 8\n",
      "\n",
      "\n",
      "1 : 2 : 3\n",
      "4 : 5 : 6\n",
      "7 : 0 : 8\n",
      "\n",
      "\n",
      "1 : 2 : 3\n",
      "4 : 5 : 6\n",
      "7 : 8 : 0\n",
      "\n",
      "\n",
      "Numero de movimientos de la solución: 24\n",
      "Numero de nodos visitados: 1628\n",
      "Numero de nodos por visitar: 875\n",
      "Numero de nodos expandidos: 2503\n"
     ]
    }
   ],
   "source": [
    "# Case 1 (Manhattan distance)\n",
    "init_value_1=np.array([[3,2,1],[6,5,4],[7,8,0]])\n",
    "final_value_1=np.array([[1,2,3],[4,5,6],[7,8,0]])\n",
    "# Heuristic search algorithm\n",
    "A_star_1=A_star(init_value_1,final_value_1,Manhattan_dist)\n",
    "A_star_1.main(Manhattan_dist)"
   ]
  },
  {
   "cell_type": "markdown",
   "metadata": {},
   "source": [
    "El tiempo de ejecución en este caso fue de 12.3s. Por (1) sabemos que el algoritmo $A^*$ que usa la distancia Manhattan es *más informado* que el que usa la distancia de Hamming, lo que quiere decir que si un nodo es expandido con la distancia de Manhattan es necesariamente expandido por el algoritmo $A^*$ con la distancia de Hamming. \n",
    "\n",
    "Por lo tanto el número de nodos expandidos por el algoritmo $A^*$ con la distancia Manhattan es menor que el número de nodos expandidos por el algoritmo $A^*$ con la distancia de Hamming, por lo que con la distancia Manhattan la búsqueda es más eficiente en tiempo y memoria lo que se puede corroborar con el ejemplo anterior, pues al algoritmo $A^*$ con la distancia de Hamming le toma 9m26s y 18561 nodos expandidos mientras que al algoritmo $A^*$ con la distancia de Manhattan le toma 12.3s y 2503 nodos expandidos. \n",
    "\n",
    "Sin embargo, al ser ambas distancias admisibles, la solución en ambos casos es óptima, como lo habíamos anticipado, que en este caso es una solución en 24 movimientos para ambas distancias."
   ]
  },
  {
   "cell_type": "markdown",
   "metadata": {},
   "source": [
    "### Caso 2 ###"
   ]
  },
  {
   "cell_type": "markdown",
   "metadata": {},
   "source": [
    "Como lo solicita el problema haremos dos pruebas más. Para este caso usaremos la configuración inicial\n",
    "$$\\begin{pmatrix}6&2&8\\\\ 4&0&5\\\\ 1&7&3 \\end{pmatrix},$$"
   ]
  },
  {
   "cell_type": "markdown",
   "metadata": {},
   "source": [
    "y como configuración final el siguiente tablero\n",
    "$$\\begin{pmatrix}1&2&3\\\\ 4&0&5\\\\ 6&7&8 \\end{pmatrix}.$$"
   ]
  },
  {
   "cell_type": "markdown",
   "metadata": {},
   "source": [
    "#### Distancia de Hamming ####"
   ]
  },
  {
   "cell_type": "markdown",
   "metadata": {},
   "source": [
    "Corremos el algoritmo $A^*$ con la pareja de tableros anterior considerando la distancia de Hamming."
   ]
  },
  {
   "cell_type": "code",
   "execution_count": 4,
   "metadata": {},
   "outputs": [
    {
     "name": "stdout",
     "output_type": "stream",
     "text": [
      "6 : 2 : 8\n",
      "4 : 0 : 5\n",
      "1 : 7 : 3\n",
      "\n",
      "\n",
      "6 : 2 : 8\n",
      "0 : 4 : 5\n",
      "1 : 7 : 3\n",
      "\n",
      "\n",
      "0 : 2 : 8\n",
      "6 : 4 : 5\n",
      "1 : 7 : 3\n",
      "\n",
      "\n",
      "2 : 0 : 8\n",
      "6 : 4 : 5\n",
      "1 : 7 : 3\n",
      "\n",
      "\n",
      "2 : 8 : 0\n",
      "6 : 4 : 5\n",
      "1 : 7 : 3\n",
      "\n",
      "\n",
      "2 : 8 : 5\n",
      "6 : 4 : 0\n",
      "1 : 7 : 3\n",
      "\n",
      "\n",
      "2 : 8 : 5\n",
      "6 : 4 : 3\n",
      "1 : 7 : 0\n",
      "\n",
      "\n",
      "2 : 8 : 5\n",
      "6 : 4 : 3\n",
      "1 : 0 : 7\n",
      "\n",
      "\n",
      "2 : 8 : 5\n",
      "6 : 0 : 3\n",
      "1 : 4 : 7\n",
      "\n",
      "\n",
      "2 : 0 : 5\n",
      "6 : 8 : 3\n",
      "1 : 4 : 7\n",
      "\n",
      "\n",
      "2 : 5 : 0\n",
      "6 : 8 : 3\n",
      "1 : 4 : 7\n",
      "\n",
      "\n",
      "2 : 5 : 3\n",
      "6 : 8 : 0\n",
      "1 : 4 : 7\n",
      "\n",
      "\n",
      "2 : 5 : 3\n",
      "6 : 0 : 8\n",
      "1 : 4 : 7\n",
      "\n",
      "\n",
      "2 : 5 : 3\n",
      "0 : 6 : 8\n",
      "1 : 4 : 7\n",
      "\n",
      "\n",
      "2 : 5 : 3\n",
      "1 : 6 : 8\n",
      "0 : 4 : 7\n",
      "\n",
      "\n",
      "2 : 5 : 3\n",
      "1 : 6 : 8\n",
      "4 : 0 : 7\n",
      "\n",
      "\n",
      "2 : 5 : 3\n",
      "1 : 0 : 8\n",
      "4 : 6 : 7\n",
      "\n",
      "\n",
      "2 : 0 : 3\n",
      "1 : 5 : 8\n",
      "4 : 6 : 7\n",
      "\n",
      "\n",
      "0 : 2 : 3\n",
      "1 : 5 : 8\n",
      "4 : 6 : 7\n",
      "\n",
      "\n",
      "1 : 2 : 3\n",
      "0 : 5 : 8\n",
      "4 : 6 : 7\n",
      "\n",
      "\n",
      "1 : 2 : 3\n",
      "4 : 5 : 8\n",
      "0 : 6 : 7\n",
      "\n",
      "\n",
      "1 : 2 : 3\n",
      "4 : 5 : 8\n",
      "6 : 0 : 7\n",
      "\n",
      "\n",
      "1 : 2 : 3\n",
      "4 : 5 : 8\n",
      "6 : 7 : 0\n",
      "\n",
      "\n",
      "1 : 2 : 3\n",
      "4 : 5 : 0\n",
      "6 : 7 : 8\n",
      "\n",
      "\n",
      "1 : 2 : 3\n",
      "4 : 0 : 5\n",
      "6 : 7 : 8\n",
      "\n",
      "\n",
      "Numero de movimientos de la solución: 24\n",
      "Numero de nodos visitados: 18786\n",
      "Numero de nodos por visitar: 9378\n",
      "Numero de nodos expandidos: 28164\n"
     ]
    }
   ],
   "source": [
    "# Case 2 (Hamming distance)\n",
    "init_value_2=np.array([[6,2,8],[4,0,5],[1,7,3]])\n",
    "final_value_2=np.array([[1,2,3],[4,0,5],[6,7,8]])\n",
    "# Heuristic search algorithm\n",
    "A_star_2=A_star(init_value_2,final_value_2,Counting_dist)\n",
    "A_star_2.main(Counting_dist)"
   ]
  },
  {
   "cell_type": "markdown",
   "metadata": {},
   "source": [
    "El tiempo de ejecución con la distancia de Hamming en este caso fue de 22m46s y el número de nodos expandidos fue de 28164. Ahora contrastaremos estos resultados con los obtenidos por la distancia Manhattan."
   ]
  },
  {
   "cell_type": "markdown",
   "metadata": {},
   "source": [
    "#### Distancia Manhattan ####"
   ]
  },
  {
   "cell_type": "markdown",
   "metadata": {},
   "source": [
    "Para el par de estados inicial y final anterior buscamos la solución utilizando la distancia Manhattan."
   ]
  },
  {
   "cell_type": "code",
   "execution_count": 5,
   "metadata": {},
   "outputs": [
    {
     "name": "stdout",
     "output_type": "stream",
     "text": [
      "6 : 2 : 8\n",
      "4 : 0 : 5\n",
      "1 : 7 : 3\n",
      "\n",
      "\n",
      "6 : 2 : 8\n",
      "0 : 4 : 5\n",
      "1 : 7 : 3\n",
      "\n",
      "\n",
      "0 : 2 : 8\n",
      "6 : 4 : 5\n",
      "1 : 7 : 3\n",
      "\n",
      "\n",
      "2 : 0 : 8\n",
      "6 : 4 : 5\n",
      "1 : 7 : 3\n",
      "\n",
      "\n",
      "2 : 8 : 0\n",
      "6 : 4 : 5\n",
      "1 : 7 : 3\n",
      "\n",
      "\n",
      "2 : 8 : 5\n",
      "6 : 4 : 0\n",
      "1 : 7 : 3\n",
      "\n",
      "\n",
      "2 : 8 : 5\n",
      "6 : 4 : 3\n",
      "1 : 7 : 0\n",
      "\n",
      "\n",
      "2 : 8 : 5\n",
      "6 : 4 : 3\n",
      "1 : 0 : 7\n",
      "\n",
      "\n",
      "2 : 8 : 5\n",
      "6 : 0 : 3\n",
      "1 : 4 : 7\n",
      "\n",
      "\n",
      "2 : 8 : 5\n",
      "0 : 6 : 3\n",
      "1 : 4 : 7\n",
      "\n",
      "\n",
      "2 : 8 : 5\n",
      "1 : 6 : 3\n",
      "0 : 4 : 7\n",
      "\n",
      "\n",
      "2 : 8 : 5\n",
      "1 : 6 : 3\n",
      "4 : 0 : 7\n",
      "\n",
      "\n",
      "2 : 8 : 5\n",
      "1 : 0 : 3\n",
      "4 : 6 : 7\n",
      "\n",
      "\n",
      "2 : 0 : 5\n",
      "1 : 8 : 3\n",
      "4 : 6 : 7\n",
      "\n",
      "\n",
      "2 : 5 : 0\n",
      "1 : 8 : 3\n",
      "4 : 6 : 7\n",
      "\n",
      "\n",
      "2 : 5 : 3\n",
      "1 : 8 : 0\n",
      "4 : 6 : 7\n",
      "\n",
      "\n",
      "2 : 5 : 3\n",
      "1 : 0 : 8\n",
      "4 : 6 : 7\n",
      "\n",
      "\n",
      "2 : 0 : 3\n",
      "1 : 5 : 8\n",
      "4 : 6 : 7\n",
      "\n",
      "\n",
      "0 : 2 : 3\n",
      "1 : 5 : 8\n",
      "4 : 6 : 7\n",
      "\n",
      "\n",
      "1 : 2 : 3\n",
      "0 : 5 : 8\n",
      "4 : 6 : 7\n",
      "\n",
      "\n",
      "1 : 2 : 3\n",
      "4 : 5 : 8\n",
      "0 : 6 : 7\n",
      "\n",
      "\n",
      "1 : 2 : 3\n",
      "4 : 5 : 8\n",
      "6 : 0 : 7\n",
      "\n",
      "\n",
      "1 : 2 : 3\n",
      "4 : 5 : 8\n",
      "6 : 7 : 0\n",
      "\n",
      "\n",
      "1 : 2 : 3\n",
      "4 : 5 : 0\n",
      "6 : 7 : 8\n",
      "\n",
      "\n",
      "1 : 2 : 3\n",
      "4 : 0 : 5\n",
      "6 : 7 : 8\n",
      "\n",
      "\n",
      "Numero de movimientos de la solución: 24\n",
      "Numero de nodos visitados: 1548\n",
      "Numero de nodos por visitar: 894\n",
      "Numero de nodos expandidos: 2442\n"
     ]
    }
   ],
   "source": [
    "# Case 2 (Hamming distance)\n",
    "init_value_2=np.array([[6,2,8],[4,0,5],[1,7,3]])\n",
    "final_value_2=np.array([[1,2,3],[4,0,5],[6,7,8]])\n",
    "# Heuristic search algorithm\n",
    "A_star_2=A_star(init_value_2,final_value_2,Manhattan_dist)\n",
    "A_star_2.main(Manhattan_dist)"
   ]
  },
  {
   "cell_type": "markdown",
   "metadata": {},
   "source": [
    "Al igual que con la configuración sugerida tenemos un tiempo de 11.9s y 2442 nodos implementados, en este caso la diferencia de eficiencia entre el algorimo $A^*$ con la distancia de Hamming y con la distancia Manhattan es todavía más notable. Estos dos ejemplos nos enseñan el beneficio de una heurística admisible más informada. De igual forma que en el caso 1, ambas heurísticas nos dan la solución óptima."
   ]
  },
  {
   "cell_type": "markdown",
   "metadata": {},
   "source": [
    "### Caso 3 ####"
   ]
  },
  {
   "cell_type": "markdown",
   "metadata": {},
   "source": [
    "Finalmente, correremos un último par de tableros. La configuración inicial será \n",
    "$$\\begin{pmatrix}1&2&3\\\\ 8&0&4\\\\ 6&5&7 \\end{pmatrix},$$"
   ]
  },
  {
   "cell_type": "markdown",
   "metadata": {},
   "source": [
    "mientras que la configuración final será\n",
    "$$\\begin{pmatrix}1&2&3\\\\ 8&0&4\\\\ 7&6&5 \\end{pmatrix}.$$"
   ]
  },
  {
   "cell_type": "markdown",
   "metadata": {},
   "source": [
    "#### Distancia de Hamming ####"
   ]
  },
  {
   "cell_type": "markdown",
   "metadata": {},
   "source": [
    "Los resultados con la distancia de Hamming son los siguientes"
   ]
  },
  {
   "cell_type": "code",
   "execution_count": 9,
   "metadata": {},
   "outputs": [
    {
     "name": "stdout",
     "output_type": "stream",
     "text": [
      "1 : 2 : 3\n",
      "8 : 0 : 4\n",
      "6 : 5 : 7\n",
      "\n",
      "\n",
      "1 : 2 : 3\n",
      "8 : 5 : 4\n",
      "6 : 0 : 7\n",
      "\n",
      "\n",
      "1 : 2 : 3\n",
      "8 : 5 : 4\n",
      "0 : 6 : 7\n",
      "\n",
      "\n",
      "1 : 2 : 3\n",
      "0 : 5 : 4\n",
      "8 : 6 : 7\n",
      "\n",
      "\n",
      "1 : 2 : 3\n",
      "5 : 0 : 4\n",
      "8 : 6 : 7\n",
      "\n",
      "\n",
      "1 : 2 : 3\n",
      "5 : 6 : 4\n",
      "8 : 0 : 7\n",
      "\n",
      "\n",
      "1 : 2 : 3\n",
      "5 : 6 : 4\n",
      "8 : 7 : 0\n",
      "\n",
      "\n",
      "1 : 2 : 3\n",
      "5 : 6 : 0\n",
      "8 : 7 : 4\n",
      "\n",
      "\n",
      "1 : 2 : 3\n",
      "5 : 0 : 6\n",
      "8 : 7 : 4\n",
      "\n",
      "\n",
      "1 : 2 : 3\n",
      "0 : 5 : 6\n",
      "8 : 7 : 4\n",
      "\n",
      "\n",
      "1 : 2 : 3\n",
      "8 : 5 : 6\n",
      "0 : 7 : 4\n",
      "\n",
      "\n",
      "1 : 2 : 3\n",
      "8 : 5 : 6\n",
      "7 : 0 : 4\n",
      "\n",
      "\n",
      "1 : 2 : 3\n",
      "8 : 0 : 6\n",
      "7 : 5 : 4\n",
      "\n",
      "\n",
      "1 : 2 : 3\n",
      "8 : 6 : 0\n",
      "7 : 5 : 4\n",
      "\n",
      "\n",
      "1 : 2 : 3\n",
      "8 : 6 : 4\n",
      "7 : 5 : 0\n",
      "\n",
      "\n",
      "1 : 2 : 3\n",
      "8 : 6 : 4\n",
      "7 : 0 : 5\n",
      "\n",
      "\n",
      "1 : 2 : 3\n",
      "8 : 0 : 4\n",
      "7 : 6 : 5\n",
      "\n",
      "\n",
      "Numero de movimientos de la solución: 16\n",
      "Numero de nodos visitados: 525\n",
      "Numero de nodos por visitar: 362\n",
      "Numero de nodos expandidos: 887\n"
     ]
    }
   ],
   "source": [
    "# Case 3 (Hamming distance)\n",
    "init_value_3=np.array([[1,2,3],[8,0,4],[6,5,7]])\n",
    "final_value_3=np.array([[1,2,3],[8,0,4],[7,6,5]])\n",
    "# Heuristic search algorithm\n",
    "A_star_3=A_star(init_value_3,final_value_3,Counting_dist)\n",
    "A_star_3.main(Counting_dist)"
   ]
  },
  {
   "cell_type": "markdown",
   "metadata": {},
   "source": [
    "La idea con esta configuración fue empezar con una configuración con distancia de Hamming menor que en los casos 1 y 2. Mientras que en los casos 1 y 2 la distancia de Hamming es de 4, en este caso es de 3."
   ]
  },
  {
   "cell_type": "code",
   "execution_count": 10,
   "metadata": {},
   "outputs": [
    {
     "name": "stdout",
     "output_type": "stream",
     "text": [
      "Distancia de Hamming Caso 1: 4 \n",
      "Distancia de Hamming Caso 2: 4 \n",
      "Distancia de Hamming Caso 3: 3 \n"
     ]
    }
   ],
   "source": [
    "print('Distancia de Hamming Caso 1: %d ' %(Counting_dist(init_value_1,final_value_1)))\n",
    "print('Distancia de Hamming Caso 2: %d ' %(Counting_dist(init_value_2,final_value_2)))\n",
    "print('Distancia de Hamming Caso 3: %d ' %(Counting_dist(init_value_3,final_value_3)))"
   ]
  },
  {
   "cell_type": "markdown",
   "metadata": {},
   "source": [
    "El resultado que obtuvimos fue que en el Caso 3 el algoritmo $A^*$ con la distancia de Hamming tiene un mejor desempeño obtienendo la solución óptima de 16 movimientos en 1.5s y expandiendo 887 nodos."
   ]
  },
  {
   "cell_type": "markdown",
   "metadata": {},
   "source": [
    "#### Distancia Manhattan ####"
   ]
  },
  {
   "cell_type": "markdown",
   "metadata": {},
   "source": [
    "A continuación analizamos el desempeño del algoritmo $A^*$ con la distancia Manhattan con la configuración del Caso 3, esperamos que sea muy rápida dado el resultado con la distancia de Hamming."
   ]
  },
  {
   "cell_type": "code",
   "execution_count": 11,
   "metadata": {},
   "outputs": [
    {
     "name": "stdout",
     "output_type": "stream",
     "text": [
      "1 : 2 : 3\n",
      "8 : 0 : 4\n",
      "6 : 5 : 7\n",
      "\n",
      "\n",
      "1 : 2 : 3\n",
      "8 : 4 : 0\n",
      "6 : 5 : 7\n",
      "\n",
      "\n",
      "1 : 2 : 3\n",
      "8 : 4 : 7\n",
      "6 : 5 : 0\n",
      "\n",
      "\n",
      "1 : 2 : 3\n",
      "8 : 4 : 7\n",
      "6 : 0 : 5\n",
      "\n",
      "\n",
      "1 : 2 : 3\n",
      "8 : 4 : 7\n",
      "0 : 6 : 5\n",
      "\n",
      "\n",
      "1 : 2 : 3\n",
      "0 : 4 : 7\n",
      "8 : 6 : 5\n",
      "\n",
      "\n",
      "1 : 2 : 3\n",
      "4 : 0 : 7\n",
      "8 : 6 : 5\n",
      "\n",
      "\n",
      "1 : 2 : 3\n",
      "4 : 7 : 0\n",
      "8 : 6 : 5\n",
      "\n",
      "\n",
      "1 : 2 : 3\n",
      "4 : 7 : 5\n",
      "8 : 6 : 0\n",
      "\n",
      "\n",
      "1 : 2 : 3\n",
      "4 : 7 : 5\n",
      "8 : 0 : 6\n",
      "\n",
      "\n",
      "1 : 2 : 3\n",
      "4 : 0 : 5\n",
      "8 : 7 : 6\n",
      "\n",
      "\n",
      "1 : 2 : 3\n",
      "0 : 4 : 5\n",
      "8 : 7 : 6\n",
      "\n",
      "\n",
      "1 : 2 : 3\n",
      "8 : 4 : 5\n",
      "0 : 7 : 6\n",
      "\n",
      "\n",
      "1 : 2 : 3\n",
      "8 : 4 : 5\n",
      "7 : 0 : 6\n",
      "\n",
      "\n",
      "1 : 2 : 3\n",
      "8 : 4 : 5\n",
      "7 : 6 : 0\n",
      "\n",
      "\n",
      "1 : 2 : 3\n",
      "8 : 4 : 0\n",
      "7 : 6 : 5\n",
      "\n",
      "\n",
      "1 : 2 : 3\n",
      "8 : 0 : 4\n",
      "7 : 6 : 5\n",
      "\n",
      "\n",
      "Numero de movimientos de la solución: 16\n",
      "Numero de nodos visitados: 165\n",
      "Numero de nodos por visitar: 111\n",
      "Numero de nodos expandidos: 276\n"
     ]
    }
   ],
   "source": [
    "# Case 3 (Hamming distance)\n",
    "init_value_3=np.array([[1,2,3],[8,0,4],[6,5,7]])\n",
    "final_value_3=np.array([[1,2,3],[8,0,4],[7,6,5]])\n",
    "# Heuristic search algorithm\n",
    "A_star_3=A_star(init_value_3,final_value_3,Manhattan_dist)\n",
    "A_star_3.main(Manhattan_dist)"
   ]
  },
  {
   "cell_type": "markdown",
   "metadata": {},
   "source": [
    "En este caso, le tomó 0.2s llegar a la solución y 276 nodos expandidos. "
   ]
  },
  {
   "cell_type": "markdown",
   "metadata": {},
   "source": [
    "Observamos que al cumplirse (1), es decir, $h_C\\leq h_M\\leq h^*$, cuanto más cerca estemos de $h^*$ mayor será la tendencia de explorar en profundidad y viajar directamente por el camino óptimo. Esta es la razón por la que el número de nodos expandidos se ve reducido drásticamente usando $h_M$ que usando $h_C$, pues con $h_M$ estamos más cerca de la búsqueda en profundidad que converge directo a la solución, que como vimos en la Tarea 2 esto es más eficiente en memoria y al visitar menos nodos reduce el tiempo de cómputo."
   ]
  },
  {
   "cell_type": "markdown",
   "metadata": {},
   "source": [
    "Sin embargo una limitación de la distancia Manhattan es que considera a cada ficha independiente de las demás, mientras que en realidad una ficha puede interferir en el camino de las demás. Hay una mejora a la distancia Manhattan llamada *Conflicto Lineal*. (poner referencia de paper), que mejoraría aún más la eficiencia del algoritmo $A^*$."
   ]
  },
  {
   "cell_type": "markdown",
   "metadata": {},
   "source": [
    "## Heurística no admisible ##"
   ]
  },
  {
   "cell_type": "markdown",
   "metadata": {},
   "source": [
    "Para el tablero $n$ consideramos $P_n$ el número de inversiones que hemos definido antes. La heurística que proponemos no admisible, considerando a $f$ como el tablero final, es\n",
    "\\begin{equation*}\n",
    "h_P(n)=|P_n-P_f|.\n",
    "\\end{equation*}"
   ]
  },
  {
   "cell_type": "markdown",
   "metadata": {},
   "source": [
    "Notamos que para el tablero\n",
    "$$n=\\begin{pmatrix}1&2&3\\\\ 4&5&0\\\\ 7&8&6 \\end{pmatrix},$$"
   ]
  },
  {
   "cell_type": "markdown",
   "metadata": {},
   "source": [
    "y tablero final\n",
    "$$f=\\begin{pmatrix}1&2&3\\\\ 4&5&6\\\\ 7&8&0 \\end{pmatrix}$$"
   ]
  },
  {
   "cell_type": "markdown",
   "metadata": {},
   "source": [
    "se tiene que $h_P(n)$=2, lo que podemos verificar con el siguiente código"
   ]
  },
  {
   "cell_type": "code",
   "execution_count": 13,
   "metadata": {},
   "outputs": [
    {
     "name": "stdout",
     "output_type": "stream",
     "text": [
      "h_P(n)= 2\n"
     ]
    }
   ],
   "source": [
    "from heuristic_search import Inversion_dist\n",
    "n=np.array([[1,2,3],[4,5,0],[7,8,6]])\n",
    "f=np.array([[1,2,3],[4,5,6],[7,8,0]])\n",
    "print('h_P(n)= %d' %(Inversion_dist(n,f)))"
   ]
  },
  {
   "cell_type": "markdown",
   "metadata": {},
   "source": [
    "No es díficil ver que podemos obtener $f$ a partir de $n$ con un sólo movimiento, desplazando el $6$ al espacio vacío en $n$, luego $h^*(n)=1$ por lo que en este caso $h_P(n)>h^*(n)$.\n",
    "\n",
    "Por lo tanto $h_P$ es en efecto una heurística no admisible."
   ]
  },
  {
   "cell_type": "markdown",
   "metadata": {},
   "source": [
    "A continuación probaremos cada par de configuraciones en los Casos 1, 2 y 3 con esta heurística $h_P$ para analizar el efecto que tiene una heurística no admisible en el algoritmo $A^*$"
   ]
  },
  {
   "cell_type": "markdown",
   "metadata": {},
   "source": [
    "### Caso 1 ###"
   ]
  },
  {
   "cell_type": "markdown",
   "metadata": {},
   "source": [
    "A continuación presentamos el desempeño del algoritmo $A^*$ con la heurística $h_P$."
   ]
  },
  {
   "cell_type": "code",
   "execution_count": 14,
   "metadata": {},
   "outputs": [
    {
     "name": "stdout",
     "output_type": "stream",
     "text": [
      "3 : 2 : 1\n",
      "6 : 5 : 4\n",
      "7 : 8 : 0\n",
      "\n",
      "\n",
      "3 : 2 : 1\n",
      "6 : 5 : 4\n",
      "7 : 0 : 8\n",
      "\n",
      "\n",
      "3 : 2 : 1\n",
      "6 : 0 : 4\n",
      "7 : 5 : 8\n",
      "\n",
      "\n",
      "3 : 0 : 1\n",
      "6 : 2 : 4\n",
      "7 : 5 : 8\n",
      "\n",
      "\n",
      "0 : 3 : 1\n",
      "6 : 2 : 4\n",
      "7 : 5 : 8\n",
      "\n",
      "\n",
      "6 : 3 : 1\n",
      "0 : 2 : 4\n",
      "7 : 5 : 8\n",
      "\n",
      "\n",
      "6 : 3 : 1\n",
      "2 : 0 : 4\n",
      "7 : 5 : 8\n",
      "\n",
      "\n",
      "6 : 0 : 1\n",
      "2 : 3 : 4\n",
      "7 : 5 : 8\n",
      "\n",
      "\n",
      "6 : 1 : 0\n",
      "2 : 3 : 4\n",
      "7 : 5 : 8\n",
      "\n",
      "\n",
      "6 : 1 : 4\n",
      "2 : 3 : 0\n",
      "7 : 5 : 8\n",
      "\n",
      "\n",
      "6 : 1 : 4\n",
      "2 : 0 : 3\n",
      "7 : 5 : 8\n",
      "\n",
      "\n",
      "6 : 0 : 4\n",
      "2 : 1 : 3\n",
      "7 : 5 : 8\n",
      "\n",
      "\n",
      "0 : 6 : 4\n",
      "2 : 1 : 3\n",
      "7 : 5 : 8\n",
      "\n",
      "\n",
      "2 : 6 : 4\n",
      "0 : 1 : 3\n",
      "7 : 5 : 8\n",
      "\n",
      "\n",
      "2 : 6 : 4\n",
      "1 : 0 : 3\n",
      "7 : 5 : 8\n",
      "\n",
      "\n",
      "2 : 0 : 4\n",
      "1 : 6 : 3\n",
      "7 : 5 : 8\n",
      "\n",
      "\n",
      "2 : 4 : 0\n",
      "1 : 6 : 3\n",
      "7 : 5 : 8\n",
      "\n",
      "\n",
      "2 : 4 : 3\n",
      "1 : 6 : 0\n",
      "7 : 5 : 8\n",
      "\n",
      "\n",
      "2 : 4 : 3\n",
      "1 : 0 : 6\n",
      "7 : 5 : 8\n",
      "\n",
      "\n",
      "2 : 0 : 3\n",
      "1 : 4 : 6\n",
      "7 : 5 : 8\n",
      "\n",
      "\n",
      "0 : 2 : 3\n",
      "1 : 4 : 6\n",
      "7 : 5 : 8\n",
      "\n",
      "\n",
      "1 : 2 : 3\n",
      "0 : 4 : 6\n",
      "7 : 5 : 8\n",
      "\n",
      "\n",
      "1 : 2 : 3\n",
      "4 : 0 : 6\n",
      "7 : 5 : 8\n",
      "\n",
      "\n",
      "1 : 2 : 3\n",
      "4 : 5 : 6\n",
      "7 : 0 : 8\n",
      "\n",
      "\n",
      "1 : 2 : 3\n",
      "4 : 5 : 6\n",
      "7 : 8 : 0\n",
      "\n",
      "\n",
      "Numero de movimientos de la solución: 24\n",
      "Numero de nodos visitados: 4547\n",
      "Numero de nodos por visitar: 2428\n",
      "Numero de nodos expandidos: 6975\n"
     ]
    }
   ],
   "source": [
    "# Case 1 (Inversion distance)\n",
    "init_value_1=np.array([[3,2,1],[6,5,4],[7,8,0]])\n",
    "final_value_1=np.array([[1,2,3],[4,5,6],[7,8,0]])\n",
    "# Heuristic search algorithm\n",
    "A_star_1=A_star(init_value_1,final_value_1,Inversion_dist)\n",
    "A_star_1.main(Inversion_dist)"
   ]
  },
  {
   "cell_type": "markdown",
   "metadata": {},
   "source": [
    "El algoritmo $A^*$ en este caso le tomo 1m30s obtener la solución y expandío 6975 nodos. Como hemos visto $h_P$ en ocasiones sobreestima el costo real $h^*$ lo que puede probar que  que el algoritmo $A^*$ con $h_P$ sea más rápido, en este caso fue más rápido que considerando la heurística $h_C$ pero al menos aquí no fue mejor que el algoritmo $A^*$ con $h_M$."
   ]
  },
  {
   "cell_type": "markdown",
   "metadata": {},
   "source": [
    "### Caso 2 ###"
   ]
  },
  {
   "cell_type": "markdown",
   "metadata": {},
   "source": [
    "Ahora probaremos el desempeño del algoritmo $A^*$ con $h_P$ y las configuraciones del caso 2."
   ]
  },
  {
   "cell_type": "code",
   "execution_count": 15,
   "metadata": {},
   "outputs": [
    {
     "name": "stdout",
     "output_type": "stream",
     "text": [
      "6 : 2 : 8\n",
      "4 : 0 : 5\n",
      "1 : 7 : 3\n",
      "\n",
      "\n",
      "6 : 2 : 8\n",
      "0 : 4 : 5\n",
      "1 : 7 : 3\n",
      "\n",
      "\n",
      "6 : 2 : 8\n",
      "1 : 4 : 5\n",
      "0 : 7 : 3\n",
      "\n",
      "\n",
      "6 : 2 : 8\n",
      "1 : 4 : 5\n",
      "7 : 0 : 3\n",
      "\n",
      "\n",
      "6 : 2 : 8\n",
      "1 : 4 : 5\n",
      "7 : 3 : 0\n",
      "\n",
      "\n",
      "6 : 2 : 8\n",
      "1 : 4 : 0\n",
      "7 : 3 : 5\n",
      "\n",
      "\n",
      "6 : 2 : 0\n",
      "1 : 4 : 8\n",
      "7 : 3 : 5\n",
      "\n",
      "\n",
      "6 : 0 : 2\n",
      "1 : 4 : 8\n",
      "7 : 3 : 5\n",
      "\n",
      "\n",
      "6 : 4 : 2\n",
      "1 : 0 : 8\n",
      "7 : 3 : 5\n",
      "\n",
      "\n",
      "6 : 4 : 2\n",
      "1 : 3 : 8\n",
      "7 : 0 : 5\n",
      "\n",
      "\n",
      "6 : 4 : 2\n",
      "1 : 3 : 8\n",
      "7 : 5 : 0\n",
      "\n",
      "\n",
      "6 : 4 : 2\n",
      "1 : 3 : 0\n",
      "7 : 5 : 8\n",
      "\n",
      "\n",
      "6 : 4 : 2\n",
      "1 : 0 : 3\n",
      "7 : 5 : 8\n",
      "\n",
      "\n",
      "6 : 4 : 2\n",
      "0 : 1 : 3\n",
      "7 : 5 : 8\n",
      "\n",
      "\n",
      "0 : 4 : 2\n",
      "6 : 1 : 3\n",
      "7 : 5 : 8\n",
      "\n",
      "\n",
      "4 : 0 : 2\n",
      "6 : 1 : 3\n",
      "7 : 5 : 8\n",
      "\n",
      "\n",
      "4 : 1 : 2\n",
      "6 : 0 : 3\n",
      "7 : 5 : 8\n",
      "\n",
      "\n",
      "4 : 1 : 2\n",
      "6 : 5 : 3\n",
      "7 : 0 : 8\n",
      "\n",
      "\n",
      "4 : 1 : 2\n",
      "6 : 5 : 3\n",
      "0 : 7 : 8\n",
      "\n",
      "\n",
      "4 : 1 : 2\n",
      "0 : 5 : 3\n",
      "6 : 7 : 8\n",
      "\n",
      "\n",
      "0 : 1 : 2\n",
      "4 : 5 : 3\n",
      "6 : 7 : 8\n",
      "\n",
      "\n",
      "1 : 0 : 2\n",
      "4 : 5 : 3\n",
      "6 : 7 : 8\n",
      "\n",
      "\n",
      "1 : 2 : 0\n",
      "4 : 5 : 3\n",
      "6 : 7 : 8\n",
      "\n",
      "\n",
      "1 : 2 : 3\n",
      "4 : 5 : 0\n",
      "6 : 7 : 8\n",
      "\n",
      "\n",
      "1 : 2 : 3\n",
      "4 : 0 : 5\n",
      "6 : 7 : 8\n",
      "\n",
      "\n",
      "Numero de movimientos de la solución: 24\n",
      "Numero de nodos visitados: 1219\n",
      "Numero de nodos por visitar: 786\n",
      "Numero de nodos expandidos: 2005\n"
     ]
    }
   ],
   "source": [
    "# Case 2 (Hamming distance)\n",
    "init_value_2=np.array([[6,2,8],[4,0,5],[1,7,3]])\n",
    "final_value_2=np.array([[1,2,3],[4,0,5],[6,7,8]])\n",
    "# Heuristic search algorithm\n",
    "A_star_2=A_star(init_value_2,final_value_2,Inversion_dist)\n",
    "A_star_2.main(Inversion_dist)"
   ]
  },
  {
   "cell_type": "markdown",
   "metadata": {},
   "source": [
    "En este caso le tomó al algoritmo $A^*$ con la heurística $h_P$ 8.1s completar el cómputo y necesitó expandir 2005 nodos. Este comportamiento fue incluso un poco mejor que usando la distancia Manhattan donde se ocupo de 11.9s en el cómputo y se expandieron 2442 nodos."
   ]
  },
  {
   "cell_type": "markdown",
   "metadata": {},
   "source": [
    "### Caso 3 ###"
   ]
  },
  {
   "cell_type": "markdown",
   "metadata": {},
   "source": [
    "Finalmente analizaremos el comportamiento del algoritmo $A^*$ con la heurística $h_P$ y las configuraciones del caso 3. "
   ]
  },
  {
   "cell_type": "code",
   "execution_count": 16,
   "metadata": {},
   "outputs": [
    {
     "name": "stdout",
     "output_type": "stream",
     "text": [
      "1 : 2 : 3\n",
      "8 : 0 : 4\n",
      "6 : 5 : 7\n",
      "\n",
      "\n",
      "1 : 2 : 3\n",
      "0 : 8 : 4\n",
      "6 : 5 : 7\n",
      "\n",
      "\n",
      "1 : 2 : 3\n",
      "6 : 8 : 4\n",
      "0 : 5 : 7\n",
      "\n",
      "\n",
      "1 : 2 : 3\n",
      "6 : 8 : 4\n",
      "5 : 0 : 7\n",
      "\n",
      "\n",
      "1 : 2 : 3\n",
      "6 : 8 : 4\n",
      "5 : 7 : 0\n",
      "\n",
      "\n",
      "1 : 2 : 3\n",
      "6 : 8 : 0\n",
      "5 : 7 : 4\n",
      "\n",
      "\n",
      "1 : 2 : 3\n",
      "6 : 0 : 8\n",
      "5 : 7 : 4\n",
      "\n",
      "\n",
      "1 : 2 : 3\n",
      "6 : 7 : 8\n",
      "5 : 0 : 4\n",
      "\n",
      "\n",
      "1 : 2 : 3\n",
      "6 : 7 : 8\n",
      "0 : 5 : 4\n",
      "\n",
      "\n",
      "1 : 2 : 3\n",
      "0 : 7 : 8\n",
      "6 : 5 : 4\n",
      "\n",
      "\n",
      "1 : 2 : 3\n",
      "7 : 0 : 8\n",
      "6 : 5 : 4\n",
      "\n",
      "\n",
      "1 : 2 : 3\n",
      "7 : 8 : 0\n",
      "6 : 5 : 4\n",
      "\n",
      "\n",
      "1 : 2 : 3\n",
      "7 : 8 : 4\n",
      "6 : 5 : 0\n",
      "\n",
      "\n",
      "1 : 2 : 3\n",
      "7 : 8 : 4\n",
      "6 : 0 : 5\n",
      "\n",
      "\n",
      "1 : 2 : 3\n",
      "7 : 8 : 4\n",
      "0 : 6 : 5\n",
      "\n",
      "\n",
      "1 : 2 : 3\n",
      "0 : 8 : 4\n",
      "7 : 6 : 5\n",
      "\n",
      "\n",
      "1 : 2 : 3\n",
      "8 : 0 : 4\n",
      "7 : 6 : 5\n",
      "\n",
      "\n",
      "Numero de movimientos de la solución: 16\n",
      "Numero de nodos visitados: 2531\n",
      "Numero de nodos por visitar: 1643\n",
      "Numero de nodos expandidos: 4174\n"
     ]
    }
   ],
   "source": [
    "# Case 3 (Hamming distance)\n",
    "init_value_3=np.array([[1,2,3],[8,0,4],[6,5,7]])\n",
    "final_value_3=np.array([[1,2,3],[8,0,4],[7,6,5]])\n",
    "# Heuristic search algorithm\n",
    "A_star_3=A_star(init_value_3,final_value_3,Inversion_dist)\n",
    "A_star_3.main(Inversion_dist)"
   ]
  },
  {
   "cell_type": "markdown",
   "metadata": {},
   "source": [
    "En este caso el cómputo tomó 32.6s y se expendieron 4174 nodos, un compartamiento peor que la distancia de Hamming donde el cómputo se completó en 1.5s y 887 nodos expandidos y peor que la distancia Manhattan que ocupó de 0.2s y 276 nodos expandidos. \n",
    "\n",
    "Podemos concluir que en promedio el algoritmo $A^*$ con la heurística $h_P$ se comparta mejor que con la heurística $h_C$, pero es peor que con la heurística $h_M$."
   ]
  }
 ],
 "metadata": {
  "interpreter": {
   "hash": "31f2aee4e71d21fbe5cf8b01ff0e069b9275f58929596ceb00d14d90e3e16cd6"
  },
  "kernelspec": {
   "display_name": "Python 3.8.10 64-bit",
   "language": "python",
   "name": "python3"
  },
  "language_info": {
   "codemirror_mode": {
    "name": "ipython",
    "version": 3
   },
   "file_extension": ".py",
   "mimetype": "text/x-python",
   "name": "python",
   "nbconvert_exporter": "python",
   "pygments_lexer": "ipython3",
   "version": "3.8.10"
  },
  "orig_nbformat": 4
 },
 "nbformat": 4,
 "nbformat_minor": 2
}
