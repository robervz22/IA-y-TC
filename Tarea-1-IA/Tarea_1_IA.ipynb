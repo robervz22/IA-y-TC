{
 "cells": [
  {
   "cell_type": "markdown",
   "metadata": {},
   "source": [
    "\\author{Roberto Vásquez Martínez}\n",
    "\\date{20/Octubre/2021}\n",
    "\\maketitle"
   ]
  },
  {
   "cell_type": "markdown",
   "metadata": {},
   "source": [
    "# Árboles de decisión #"
   ]
  },
  {
   "cell_type": "markdown",
   "metadata": {},
   "source": [
    "## Análisis de la Base de Datos ##"
   ]
  },
  {
   "cell_type": "code",
   "execution_count": 1,
   "metadata": {},
   "outputs": [],
   "source": [
    "# Importing required libraries\n",
    "import pandas as pd\n",
    "import numpy as np\n",
    "import matplotlib.pyplot as plt\n",
    "from sklearn.datasets import load_iris\n",
    "from sklearn.tree import DecisionTreeClassifier\n",
    "from sklearn.model_selection import train_test_split"
   ]
  },
  {
   "cell_type": "markdown",
   "metadata": {},
   "source": [
    "A continuación se analiza la base de datos de iris de Fisher. En primera instancia capturamos los atributos de cada una de las muestras en un 'DataFrame', mostramos la estructura"
   ]
  },
  {
   "cell_type": "code",
   "execution_count": 2,
   "metadata": {},
   "outputs": [
    {
     "name": "stdout",
     "output_type": "stream",
     "text": [
      "   sepal length (cm)  sepal width (cm)  petal length (cm)  petal width (cm)\n",
      "0                5.1               3.5                1.4               0.2\n",
      "1                4.9               3.0                1.4               0.2\n",
      "2                4.7               3.2                1.3               0.2\n",
      "3                4.6               3.1                1.5               0.2\n",
      "4                5.0               3.6                1.4               0.2\n"
     ]
    }
   ],
   "source": [
    "# Loading the iris data\n",
    "data = load_iris()\n",
    "df_data = pd.DataFrame(data.data, columns=data.feature_names)\n",
    "print(df_data.head())\n",
    "df_data['species']=data.target"
   ]
  },
  {
   "cell_type": "markdown",
   "metadata": {},
   "source": [
    "Obtenemos el tamaño de la muestra"
   ]
  },
  {
   "cell_type": "code",
   "execution_count": 3,
   "metadata": {},
   "outputs": [
    {
     "name": "stdout",
     "output_type": "stream",
     "text": [
      "150\n"
     ]
    }
   ],
   "source": [
    "print(df_data.shape[0])"
   ]
  },
  {
   "cell_type": "markdown",
   "metadata": {},
   "source": [
    "Observamos que tenemos una muestra tamaño 150 y en la que cada muestra tiene 4 atributos, que corresponden al ancho y largo del sépalo y pétalos de distintas especies de Iris que especificaremos a continuación."
   ]
  },
  {
   "cell_type": "markdown",
   "metadata": {},
   "source": [
    "La clase a la que pertenece cada una de las muestras se codifica por el arreglo siguiente"
   ]
  },
  {
   "cell_type": "code",
   "execution_count": 4,
   "metadata": {},
   "outputs": [
    {
     "name": "stdout",
     "output_type": "stream",
     "text": [
      "{0, 1, 2}\n"
     ]
    }
   ],
   "source": [
    "cod_target=set(data.target)\n",
    "print(cod_target)"
   ]
  },
  {
   "cell_type": "markdown",
   "metadata": {},
   "source": [
    "Cada uno de estos códigos corresponde a respectivamente a las siguientes especies de *Iris*"
   ]
  },
  {
   "cell_type": "code",
   "execution_count": 5,
   "metadata": {},
   "outputs": [
    {
     "name": "stdout",
     "output_type": "stream",
     "text": [
      "['setosa' 'versicolor' 'virginica']\n"
     ]
    }
   ],
   "source": [
    "print(data.target_names)"
   ]
  },
  {
   "cell_type": "markdown",
   "metadata": {},
   "source": [
    "Además analizaremos a partir de esta base datos cuantas observaciones tenemos por especie."
   ]
  },
  {
   "cell_type": "code",
   "execution_count": 6,
   "metadata": {},
   "outputs": [
    {
     "name": "stdout",
     "output_type": "stream",
     "text": [
      "Numero de observaciones de la especie setosa: 50\n",
      "Numero de observaciones de la espcie versicolor: 50\n",
      "Numero de observaciones de la especie virginica: 50\n"
     ]
    }
   ],
   "source": [
    "num_setosa=len(df_data[df_data.species==0])\n",
    "num_versicolor=len(df_data[df_data.species==1])\n",
    "num_virginica=len(df_data[df_data.species==2])\n",
    "print('Numero de observaciones de la especie setosa: %d' %(num_setosa))\n",
    "print('Numero de observaciones de la espcie versicolor: %d' %(num_versicolor))\n",
    "print('Numero de observaciones de la especie virginica: %d' %(num_virginica))"
   ]
  },
  {
   "cell_type": "markdown",
   "metadata": {},
   "source": [
    "De lo anterior podemos concluir que tenemos 50 observaciones de cada especie. Ahora formamos a partir de la base de datos el subconjunto de entrenamiento y prueba."
   ]
  },
  {
   "cell_type": "code",
   "execution_count": 7,
   "metadata": {},
   "outputs": [],
   "source": [
    "# Extracting data attributes\n",
    "X = data.data\n",
    "# Extracting target/ class labels\n",
    "y = data.target\n",
    "# Using the train_test_split to create train and test sets.\n",
    "X_train, X_test, y_train, y_test = train_test_split(X, y, random_state = 47, test_size = 0.25)"
   ]
  },
  {
   "cell_type": "markdown",
   "metadata": {},
   "source": [
    "Posteriormente analizaremos la proporción de cada especie en el conjunto de entrenamiento y el de prueba."
   ]
  },
  {
   "cell_type": "code",
   "execution_count": 8,
   "metadata": {},
   "outputs": [
    {
     "name": "stdout",
     "output_type": "stream",
     "text": [
      "Conjunto de entrenamiento: setosa: 35, versicolor: 42, virginica: 35\n"
     ]
    }
   ],
   "source": [
    "num_train_setosa=np.count_nonzero(y_train==0)\n",
    "num_train_versicolor=np.count_nonzero(y_train==1)\n",
    "num_train_virginica=np.count_nonzero(y_train==2)\n",
    "print('Conjunto de entrenamiento: setosa: %d, versicolor: %d, virginica: %d' %(num_train_setosa,num_train_versicolor,num_train_virginica))"
   ]
  },
  {
   "cell_type": "code",
   "execution_count": 9,
   "metadata": {},
   "outputs": [
    {
     "name": "stdout",
     "output_type": "stream",
     "text": [
      "Conjunto de prueba: setosa: 15, versicolor: 8, virginica: 15\n"
     ]
    }
   ],
   "source": [
    "num_test_setosa=np.count_nonzero(y_test==0)\n",
    "num_test_versicolor=np.count_nonzero(y_test==1)\n",
    "num_test_virginica=np.count_nonzero(y_test==2)\n",
    "print('Conjunto de prueba: setosa: %d, versicolor: %d, virginica: %d' %(num_test_setosa,num_test_versicolor,num_test_virginica))"
   ]
  },
  {
   "cell_type": "markdown",
   "metadata": {},
   "source": [
    "Tomamos en cuenta que con el código anterior fijamos el conjunto de prueba con un tamaño de 1/4 parte del conjunto total, es decir, el conjunto de prueba tiene tamaño 38. "
   ]
  },
  {
   "cell_type": "markdown",
   "metadata": {},
   "source": [
    "## Implementación del ID3 ##"
   ]
  },
  {
   "cell_type": "markdown",
   "metadata": {},
   "source": [
    "### Parámetro min_samples_split"
   ]
  },
  {
   "cell_type": "markdown",
   "metadata": {},
   "source": [
    "El parámetro *min_samples_split* en el ID3 implementado en *sklearn.tree* lo que hace es poner una restricción para que dado un nodo se creen sus hijos, la reestricción que pone es que al menos debe haber el número de observaciones que se especifiquen en *min_samples_split* para proceder con la partición en ese nodo. Esto hace que los nodos que corresponden a cada una de las especide de Iris en el conjunto de entrenamiento sean propensas a mayor impureza en el conjunto de entrenamiento mayores valores de *min_samples_split* generan arboles de decisión cada vez menos profundos. \n",
    "\n",
    "El valor por default de *min_samples_split* es 2, lo que significa que podemos hacer la partición de cualquier nodo que tenga al menos 2 observaciones, al final los nodos más profundos tienen menos de dos observaciones, es decir, 1 observación por lo que la clasificación del conjunto de entrenamiento es perfecta.\n",
    "\n",
    "Por otro lado para mayores valores de *min_samples_split* solo podemos ejecutar la partición para nodos con un numero mayor de observaciones al especificado en *min_samples_split*, lo que reduce el sobreajuste ya que nos estamos preguntando por la ganancia de información de un conjunto de observaciones acotado inferiormente."
   ]
  },
  {
   "cell_type": "markdown",
   "metadata": {},
   "source": [
    "A continuación hacemos la clasificación para distintos valores el parámetro *min_samples_split*. Los valores con los que probaremos son de la forma \n",
    "$$v=2i\\ \\ \\text{ para }i=1,2,\\dots,25$$"
   ]
  },
  {
   "cell_type": "code",
   "execution_count": 12,
   "metadata": {},
   "outputs": [],
   "source": [
    "from sklearn.tree import DecisionTreeClassifier\n",
    "#Importing the accuracy metric from sklearn.metrics library\n",
    "from sklearn.metrics import accuracy_score\n",
    "values_min_split=np.arange(2,72,2)"
   ]
  },
  {
   "cell_type": "markdown",
   "metadata": {},
   "source": [
    "Graficamos el desempeño de la efectividad en la clasificación del conjunto de prueba y de entrenamiento para los distintos valores de parámetro *min_samples_split* en el clasificador."
   ]
  },
  {
   "cell_type": "code",
   "execution_count": 13,
   "metadata": {},
   "outputs": [
    {
     "data": {
      "text/plain": [
       "<matplotlib.legend.Legend at 0x7fe5a2d36460>"
      ]
     },
     "execution_count": 13,
     "metadata": {},
     "output_type": "execute_result"
    },
    {
     "data": {
      "image/png": "[encoded data removed]",
      "text/plain": [
       "<Figure size 432x288 with 1 Axes>"
      ]
     },
     "metadata": {},
     "output_type": "display_data"
    }
   ],
   "source": [
    "acc_train,acc_test=[],[]\n",
    "for v in values_min_split:\n",
    "    clf = DecisionTreeClassifier(criterion = 'entropy',min_samples_split=v)\n",
    "    clf.fit(X_train,y_train)\n",
    "    acc_train.append(accuracy_score(y_true=y_train,y_pred=clf.predict(X_train)))\n",
    "    y_pred=clf.predict(X_test)\n",
    "    acc_test.append(accuracy_score(y_true=y_test,y_pred=y_pred))\n",
    "\n",
    "# Plotting\n",
    "plt.style.use('ggplot')\n",
    "plt.scatter(values_min_split,acc_train,label='Train', color='red',marker='^')\n",
    "plt.scatter(values_min_split,acc_test,label='Test',color='blue',marker='o')\n",
    "plt.legend()"
   ]
  },
  {
   "cell_type": "markdown",
   "metadata": {},
   "source": [
    "Observamos que la precisión en el conjunto de entrenamiento se ve reducida al aumentar el valor de *min_samples_split*, pues requerimos al menos esa cantidad de observaciones para preguntar, y aquellos nodos con observaciones menores a *min_samples_split* son nuestos nodos más profundos, es decir, las hojas del árbol. Mientras más grande sea *min_samples_split* mayor impureza habra en las hojas.\n",
    "\n",
    "Por otra parte, cuando *min_samples_split* igual a 2 entonces tenemos una clasificación perfecta pues los nodos más profundos son de tamaño uno, pero precisamente esa complejidad del árbol hace que la predicción en el conjunto de prueba sea menor.\n",
    "\n",
    "Como la especie con mayor representación en el conjunto de entrenamiento es de tamaño 42, cuando *min_samples_split* es mayor a 44 la impureza aumenta significativamente pues podemos tener un nodo hoja de tamaño 43 o 44 en el que evidentemente habrá error pues la mayor representación de una especie es 42. \n",
    "\n",
    "Veamos también que la precisión del conjunto de prueba se ve reducida de 2 al intervalo $[4,32]$, sin embargo se guarda aproximadamente la misma relación respecto a la precisión del conjunto de entrenamiento, pues con *min_samples_split* igual a 2 la clasificación en el conjunto de prueba fue perfecta.\n",
    "\n",
    "Observamos que la precisión del conjunto de prueba mejora sustancialmente y es superior a la del conjunto de entrenamiento cuando *min_samples_split* es mayor o igual a 34. \n",
    "\n",
    "Con un valor de *min_samples_split* mayor a 34 realmente estamos poniendo una reestricción a la clasificación pues la especie menos representada tiene 35 observaciones mientras que la más representada tiene 42. Por ejemplo, si hacemos la partición con *min_samples_split* igual 32 puede que estemos preguntando por un nodo en donde hay 33 observaciones del mismo tipo, y sólo estamos agregando complejidad innecesaria al árbol de decisión, mientras que si preguntamenos en un nodo con un numéro mayor a 34 observaciones, por ejemplo *min_samples_split* igual a 40 en un nodo con esa cantidad de observaciones es claro que aumenta la posibilidad de que haya al menos dos clases representadas por lo que hacer una partición en ese nodo sería necesario. Al acotar inferiormente el número de observaciones que se necesitan para preguntar reducimos la complejidad innecesaria del árbol de decisión, en consecuencia observamos un mejor comportamiento en la predicción en el conjunto de prueba.\n",
    "\n",
    "Concluimos de lo anterior que con *min_samples_split* mayor a 44 aseguramos que hacemos las preguntas necesarias para hacer la clasificación pues la especie con mayor representación en la muestra de entrenamiento tiene 42 observaciones, en consecuencia si bien aumentamos la impureza en los nodos hoja aseguramos que no se creo complejidad innecesaria en el árbol, en consecuencia evitamos el sobreajuste y obtenemos mejores precisiones en el conjunto de prueba."
   ]
  }
 ],
 "metadata": {
  "interpreter": {
   "hash": "31f2aee4e71d21fbe5cf8b01ff0e069b9275f58929596ceb00d14d90e3e16cd6"
  },
  "kernelspec": {
   "display_name": "Python 3.8.10 64-bit",
   "name": "python3"
  },
  "language_info": {
   "codemirror_mode": {
    "name": "ipython",
    "version": 3
   },
   "file_extension": ".py",
   "mimetype": "text/x-python",
   "name": "python",
   "nbconvert_exporter": "python",
   "pygments_lexer": "ipython3",
   "version": "3.8.10"
  },
  "orig_nbformat": 4
 },
 "nbformat": 4,
 "nbformat_minor": 2
}
